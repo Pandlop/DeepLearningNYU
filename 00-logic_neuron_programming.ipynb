{
  "cells": [
    {
      "cell_type": "markdown",
      "metadata": {
        "id": "N-jW7j6LsWpB"
      },
      "source": [
        "# Code your own neuron and neural net\n",
        "The parts of code that look like\n",
        "```python\n",
        "pass  # ⬅️✏️\n",
        "```\n",
        "need to be filled in before moving to the next cell.\n",
        "\n",
        "Check out the slides and / or corresponding video lecture for more instructions."
      ]
    },
    {
      "cell_type": "code",
      "execution_count": 9,
      "metadata": {
        "lines_to_next_cell": 1,
        "id": "lhnpE1RIsWpF"
      },
      "outputs": [],
      "source": [
        "# Define two vectors (lists): input my_x, weights my_w\n",
        "my_x = [0, 1, 1]\n",
        "my_w = [-10, 10, 5]"
      ]
    },
    {
      "cell_type": "code",
      "execution_count": 10,
      "metadata": {
        "id": "x-azFSO9sWpH"
      },
      "outputs": [],
      "source": [
        "# Multiply two lists element wise\n",
        "def mul(a, b):\n",
        "    \"\"\"\n",
        "    return a list c, same length as a, element c[i] = a[i] * b[i]\n",
        "    \"len(list)\" and \"[0] * n\" may be useful\n",
        "    \"\"\"\n",
        "    c = [a[i]*b[i] for i in range(len(a))]\n",
        "\n",
        "    return c"
      ]
    },
    {
      "cell_type": "markdown",
      "metadata": {
        "id": "naqIFfhBsWpH"
      },
      "source": [
        "---"
      ]
    },
    {
      "cell_type": "code",
      "execution_count": 11,
      "metadata": {
        "id": "yjH-UY70sWpI",
        "outputId": "a477b171-37b0-4221-a522-24442ae60aae",
        "colab": {
          "base_uri": "https://localhost:8080/"
        }
      },
      "outputs": [
        {
          "output_type": "execute_result",
          "data": {
            "text/plain": [
              "[0, 10, 5]"
            ]
          },
          "metadata": {},
          "execution_count": 11
        }
      ],
      "source": [
        "# Test mul() function\n",
        "mul(my_x, my_w)"
      ]
    },
    {
      "cell_type": "code",
      "execution_count": 12,
      "metadata": {
        "lines_to_next_cell": 1,
        "id": "uSNCXdi5sWpI"
      },
      "outputs": [],
      "source": [
        "# Define a scalar: bias b\n",
        "my_b = -5"
      ]
    },
    {
      "cell_type": "code",
      "execution_count": 15,
      "metadata": {
        "id": "eGQByB42sWpI"
      },
      "outputs": [],
      "source": [
        "# Neuron linear (internal) potential\n",
        "def linear_neuron(x, weights, bias):\n",
        "    \"\"\"\n",
        "    return a scalar value representing a scalar neuron\n",
        "    \"sum(list)\" computes the sum of the elements in a list\n",
        "    \"\"\"\n",
        "    neuron = mul(x,weights)\n",
        "\n",
        "    return sum(neuron) + bias"
      ]
    },
    {
      "cell_type": "code",
      "execution_count": 16,
      "metadata": {
        "id": "oAb5Q6UEsWpJ",
        "outputId": "877b691d-6029-4224-a5fd-4bb5c09c5185",
        "colab": {
          "base_uri": "https://localhost:8080/"
        }
      },
      "outputs": [
        {
          "output_type": "execute_result",
          "data": {
            "text/plain": [
              "10"
            ]
          },
          "metadata": {},
          "execution_count": 16
        }
      ],
      "source": [
        "# Test linear_neuron() function\n",
        "linear_neuron(my_x, my_w, my_b)"
      ]
    },
    {
      "cell_type": "code",
      "execution_count": 17,
      "metadata": {
        "lines_to_next_cell": 1,
        "id": "y2FcZNeKsWpJ"
      },
      "outputs": [],
      "source": [
        "# Import exp() function (safe on lists)\n",
        "from numpy import exp"
      ]
    },
    {
      "cell_type": "code",
      "execution_count": null,
      "metadata": {
        "id": "JXPWvndxsWpJ"
      },
      "outputs": [],
      "source": [
        "# Logistic sigmoid\n",
        "def sigmoid(z):\n",
        "    \"\"\"\n",
        "    return the logistic sigmoid (use exp())\n",
        "    \"\"\"\n",
        "    pass  # ⬅️✏️"
      ]
    },
    {
      "cell_type": "markdown",
      "metadata": {
        "id": "rLmsaWDGsWpK"
      },
      "source": [
        "---"
      ]
    },
    {
      "cell_type": "code",
      "execution_count": null,
      "metadata": {
        "id": "L9G57kEusWpK"
      },
      "outputs": [],
      "source": [
        "# Try out σ() for different z values\n",
        "for z in (-5, 0, 5): print(sigmoid(z))"
      ]
    },
    {
      "cell_type": "code",
      "execution_count": null,
      "metadata": {
        "id": "KAG6sWWfsWpK"
      },
      "outputs": [],
      "source": [
        "# Import some plotting stuff to graph sigmoid()\n",
        "from numpy import linspace\n",
        "from matplotlib.pyplot import plot, axhline, axvline, grid, style\n",
        "style.use('dark_background')"
      ]
    },
    {
      "cell_type": "code",
      "execution_count": null,
      "metadata": {
        "id": "ZEu0-HFDsWpL"
      },
      "outputs": [],
      "source": [
        "# Get a pair of axis and grid lines centred in (0, 0)\n",
        "axhline(c='.2'); axvline(color='.2')\n",
        "grid(c='.1', ls='--')\n",
        "\n",
        "# Plot across a span of numbers\n",
        "z = linspace(-7.5, 7.5)\n",
        "plot(z, sigmoid(z));"
      ]
    },
    {
      "cell_type": "code",
      "execution_count": null,
      "metadata": {
        "id": "IO53eEQssWpL"
      },
      "outputs": [],
      "source": [
        "# Full neuron function\n",
        "def neuron(x, weights, bias):\n",
        "    \"\"\"\n",
        "    Return a classical neuron output (reuse code above)\n",
        "    \"\"\"\n",
        "    pass  # ⬅️✏️"
      ]
    },
    {
      "cell_type": "markdown",
      "metadata": {
        "id": "4JOe3vtZsWpL"
      },
      "source": [
        "---"
      ]
    },
    {
      "cell_type": "code",
      "execution_count": null,
      "metadata": {
        "id": "aa88rASmsWpM"
      },
      "outputs": [],
      "source": [
        "# Test neuron() function\n",
        "neuron(my_x, my_w, my_b)"
      ]
    },
    {
      "cell_type": "code",
      "execution_count": null,
      "metadata": {
        "lines_to_next_cell": 1,
        "id": "4EkfmRrIsWpM"
      },
      "outputs": [],
      "source": [
        "# Package OR neuron weights and bias\n",
        "def or_neuron(x):\n",
        "    \"\"\"\n",
        "    Return x1 OR x2 (x1 + x2)\n",
        "    \"\"\"\n",
        "    pass  # ⬅️✏️"
      ]
    },
    {
      "cell_type": "markdown",
      "metadata": {
        "id": "j2kP3M_asWpM"
      },
      "source": [
        "---"
      ]
    },
    {
      "cell_type": "code",
      "execution_count": null,
      "metadata": {
        "id": "RgGZhNKvsWpM"
      },
      "outputs": [],
      "source": [
        "# Defina a collection of inputs to test OR and AND\n",
        "my_x_collection = [\n",
        "    [0, 0],\n",
        "    [0, 1],\n",
        "    [1, 0],\n",
        "    [1, 1],\n",
        "]"
      ]
    },
    {
      "cell_type": "code",
      "execution_count": null,
      "metadata": {
        "lines_to_next_cell": 1,
        "id": "cyYh3aqxsWpN"
      },
      "outputs": [],
      "source": [
        "print('Checking OR neuron output')\n",
        "for my_x in my_x_collection:\n",
        "    print(my_x, f'{or_neuron(my_x):.3f}')"
      ]
    },
    {
      "cell_type": "code",
      "execution_count": null,
      "metadata": {
        "lines_to_next_cell": 1,
        "id": "-3uI9iFgsWpN"
      },
      "outputs": [],
      "source": [
        "# Package AND neuron weights and bias\n",
        "def and_neuron(x):\n",
        "    \"\"\"\n",
        "    Return x1 AND x2 (x1 * x2)\n",
        "    \"\"\"\n",
        "    pass  # ⬅️✏️"
      ]
    },
    {
      "cell_type": "markdown",
      "metadata": {
        "id": "MHUweO7-sWpO"
      },
      "source": [
        "---"
      ]
    },
    {
      "cell_type": "code",
      "execution_count": null,
      "metadata": {
        "lines_to_next_cell": 1,
        "id": "cE2GmOYbsWpO"
      },
      "outputs": [],
      "source": [
        "print('Checking AND neuron output')\n",
        "for my_x in my_x_collection:\n",
        "    print(my_x, f'{and_neuron(my_x):.3f}')"
      ]
    },
    {
      "cell_type": "code",
      "execution_count": null,
      "metadata": {
        "lines_to_next_cell": 1,
        "id": "0c0jRmtYsWpO"
      },
      "outputs": [],
      "source": [
        "# Package NOT neuron weight and bias\n",
        "def not_neuron(x):\n",
        "    \"\"\"\n",
        "    Return NOT x1 (x1_)\n",
        "    \"\"\"\n",
        "    pass  # ⬅️✏️"
      ]
    },
    {
      "cell_type": "markdown",
      "metadata": {
        "id": "1IYtK8O2sWpO"
      },
      "source": [
        "---"
      ]
    },
    {
      "cell_type": "code",
      "execution_count": null,
      "metadata": {
        "lines_to_next_cell": 1,
        "id": "ch8XWzR3sWpP"
      },
      "outputs": [],
      "source": [
        "print('Checking NOT neuron output')\n",
        "for my_x in [[0], [1]]:\n",
        "    print(my_x, f'{not_neuron(my_x):.3f}')"
      ]
    },
    {
      "cell_type": "markdown",
      "metadata": {
        "id": "ClSGAOd4sWpP"
      },
      "source": [
        "![X-OR](https://github.com/Atcold/NYU-DLSP20/blob/master/res/x-or_circuit.png?raw=1)"
      ]
    },
    {
      "cell_type": "code",
      "execution_count": null,
      "metadata": {
        "id": "yzHiH4NrsWpP"
      },
      "outputs": [],
      "source": [
        "# Combine OR, AND, and NOT into a XOR neuron\n",
        "def xor_neuron(x):\n",
        "    \"\"\"\n",
        "    Return x1_ * x2 + x1 * x2_\n",
        "    \"\"\"\n",
        "    pass  # ⬅️✏️"
      ]
    },
    {
      "cell_type": "markdown",
      "metadata": {
        "id": "BMZ2D1MUsWpP"
      },
      "source": [
        "---"
      ]
    },
    {
      "cell_type": "code",
      "execution_count": null,
      "metadata": {
        "id": "sO6LrlMLsWpQ"
      },
      "outputs": [],
      "source": [
        "print('Checking XOR neuron output')\n",
        "for my_x in my_x_collection:\n",
        "    print(my_x, f'{xor_neuron(my_x):.3f}')"
      ]
    },
    {
      "cell_type": "markdown",
      "metadata": {
        "id": "AXkCuDltsWpR"
      },
      "source": [
        "![Half-adder](https://github.com/Atcold/NYU-DLSP20/blob/master/res/half-adder_circuit.png?raw=1)"
      ]
    },
    {
      "cell_type": "code",
      "execution_count": null,
      "metadata": {
        "id": "WokEQuW9sWpS"
      },
      "outputs": [],
      "source": [
        "# Combine a XOR and an AND into a half-adder\n",
        "# ⬅️✏️"
      ]
    },
    {
      "cell_type": "markdown",
      "metadata": {
        "id": "HcENBBVWsWpT"
      },
      "source": [
        "---"
      ]
    },
    {
      "cell_type": "markdown",
      "metadata": {
        "id": "sK4fehOVsWpT"
      },
      "source": [
        "![Adder](https://github.com/Atcold/NYU-DLSP20/blob/master/res/adder_circuit.png?raw=1)"
      ]
    },
    {
      "cell_type": "code",
      "execution_count": null,
      "metadata": {
        "id": "-Y5_eWe7sWpU"
      },
      "outputs": [],
      "source": [
        "# Combine two half-adders and an OR into a (full) adder\n",
        "# ⬅️✏️"
      ]
    },
    {
      "cell_type": "markdown",
      "metadata": {
        "id": "pIMmU2O8sWpU"
      },
      "source": [
        "---"
      ]
    }
  ],
  "metadata": {
    "jupytext": {
      "encoding": "# -*- coding: utf-8 -*-"
    },
    "kernelspec": {
      "display_name": "Python 3",
      "language": "python",
      "name": "python3"
    },
    "language_info": {
      "codemirror_mode": {
        "name": "ipython",
        "version": 3
      },
      "file_extension": ".py",
      "mimetype": "text/x-python",
      "name": "python",
      "nbconvert_exporter": "python",
      "pygments_lexer": "ipython3",
      "version": "3.7.4"
    },
    "colab": {
      "provenance": []
    }
  },
  "nbformat": 4,
  "nbformat_minor": 0
}